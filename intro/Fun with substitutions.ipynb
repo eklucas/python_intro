{
 "cells": [
  {
   "cell_type": "markdown",
   "metadata": {},
   "source": [
    "# Fun with substitutions\n",
    "\n",
    "We deal with substitutions a lot when coding for journalism; a lot of the work we outsource to the computer involves reformatting information to get it into an analyzable state, just like some of the data reshaping and cleaning you've done in the past. It also saves you from having to type the same thing again and again.\n",
    "\n",
    "So here are some strings with a similar structure:"
   ]
  },
  {
   "cell_type": "code",
   "execution_count": null,
   "metadata": {
    "collapsed": true
   },
   "outputs": [],
   "source": [
    "some_string = \"Alex is in Chicago, writing some code.\"\n",
    "some_other_string = \"John is in the park, feeding some birds.\"\n",
    "and_another_string = \"Sandra is in Austin, hiring some new people.\"\n",
    "promise_last_string = \"Jenny is in the newsroom, editing some stories.\""
   ]
  },
  {
   "cell_type": "markdown",
   "metadata": {},
   "source": [
    "Kind of redundant, right? The idea is that you can weave in information from other variables into a string with substitution; it's kind of like Madlibs. This is a process you'll likely repeat in your own scripts to get the output looking the way you want it to.\n",
    "\n",
    "Here's one way to do it, briefly: `%s` variables with strings and `%d` for variables with numbers, then referencing which variables you want to swap into the string after a `%`:\n",
    "\n",
    "```\n",
    "print('Some string, some %s string.' % a_variable)\n",
    "```"
   ]
  },
  {
   "cell_type": "code",
   "execution_count": null,
   "metadata": {
    "collapsed": false
   },
   "outputs": [],
   "source": []
  },
  {
   "cell_type": "markdown",
   "metadata": {},
   "source": [
    "Alas, this format of substitution is being depreciated for a similar method: a string method called `.format()` that gives you a bit more control."
   ]
  },
  {
   "cell_type": "code",
   "execution_count": null,
   "metadata": {
    "collapsed": false
   },
   "outputs": [],
   "source": []
  },
  {
   "cell_type": "markdown",
   "metadata": {},
   "source": [
    "The brackets can be empty, in which case variables will be returned in whatever order they were given. Putting numbers in the brackets let you specify index position."
   ]
  },
  {
   "cell_type": "code",
   "execution_count": null,
   "metadata": {
    "collapsed": false
   },
   "outputs": [],
   "source": []
  },
  {
   "cell_type": "markdown",
   "metadata": {},
   "source": [
    "The really nice thing about `.format()`? You can repeat variables when necessary."
   ]
  },
  {
   "cell_type": "code",
   "execution_count": null,
   "metadata": {
    "collapsed": false
   },
   "outputs": [],
   "source": []
  },
  {
   "cell_type": "markdown",
   "metadata": {},
   "source": [
    "So coming back to our strings from the top of the notebook — with substitution, we could handle printing all those strings above with a loop fed by lists.\n",
    "\n",
    "We can make the lists below:"
   ]
  },
  {
   "cell_type": "code",
   "execution_count": null,
   "metadata": {
    "collapsed": true
   },
   "outputs": [],
   "source": []
  },
  {
   "cell_type": "markdown",
   "metadata": {},
   "source": [
    "And then write the loop:"
   ]
  },
  {
   "cell_type": "code",
   "execution_count": null,
   "metadata": {
    "collapsed": false
   },
   "outputs": [],
   "source": []
  },
  {
   "cell_type": "markdown",
   "metadata": {},
   "source": [
    "And if we wanted to add to these four categories:"
   ]
  },
  {
   "cell_type": "code",
   "execution_count": null,
   "metadata": {
    "collapsed": true
   },
   "outputs": [],
   "source": []
  },
  {
   "cell_type": "markdown",
   "metadata": {},
   "source": [
    "Let's print just the last thing in each of those lists."
   ]
  },
  {
   "cell_type": "code",
   "execution_count": null,
   "metadata": {
    "collapsed": false
   },
   "outputs": [],
   "source": []
  }
 ],
 "metadata": {
  "kernelspec": {
   "display_name": "Python 2",
   "language": "python",
   "name": "python2"
  },
  "language_info": {
   "codemirror_mode": {
    "name": "ipython",
    "version": 2
   },
   "file_extension": ".py",
   "mimetype": "text/x-python",
   "name": "python",
   "nbconvert_exporter": "python",
   "pygments_lexer": "ipython2",
   "version": "2.7.11"
  }
 },
 "nbformat": 4,
 "nbformat_minor": 0
}
