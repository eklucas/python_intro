{
 "cells": [
  {
   "cell_type": "markdown",
   "metadata": {},
   "source": [
    "# Fun with whitespace in Python\n",
    "\n",
    "Whitespace is critical in Python. Unlike some other scripting languages, which use characters to tell the interpreter where functions and loops end, Python uses structured indentation for new lines, making \"blocks\" of code."
   ]
  },
  {
   "cell_type": "markdown",
   "metadata": {},
   "source": [
    "Before we run the code below, what do you think it does? Let's step through it (also notice how blank lines between lines of code is A-OK)."
   ]
  },
  {
   "cell_type": "code",
   "execution_count": null,
   "metadata": {
    "collapsed": false
   },
   "outputs": [],
   "source": [
    "my_string = 'New York'\n",
    "\n",
    "print \"Start spreading the news,\"\n",
    "\n",
    "if my_string == 'New York':\n",
    "    print \"I'm leaving today,\"\n",
    "    print \"I want to be a part of it,\"\n",
    "    \n",
    "    for num in range(0,2):\n",
    "        print my_string\n",
    "\n",
    "else:\n",
    "    print \"you clearly don't know how this song goes. {}?\".format(my_string)"
   ]
  },
  {
   "cell_type": "markdown",
   "metadata": {},
   "source": [
    "Some other places indentation and whitespace don't matter much: when assigning items to a list or a string. The list below is ugly, but sometimes it's more readable in a script to define things on different lines."
   ]
  },
  {
   "cell_type": "code",
   "execution_count": null,
   "metadata": {
    "collapsed": true
   },
   "outputs": [],
   "source": [
    "list_of_cities = [\n",
    "\n",
    "            'Buffalo',\n",
    "            \n",
    "                  'Key West',\n",
    "                'Fort Collins',     'Bakersfield'     ]"
   ]
  },
  {
   "cell_type": "code",
   "execution_count": null,
   "metadata": {
    "collapsed": true
   },
   "outputs": [],
   "source": [
    "wordy_string = \"Four score and seven years ago, our fathers brought\" \\\n",
    "    \" forth on this continent ... hmm. I\" \\\n",
    "            \" am desperately trying to remember what Abraham Lincoln\" \\\n",
    "        \" said, because it was one of the most important and\" \\\n",
    "        \" and influentual speeches in modern history; I've even\" \\\n",
    "                   \" been to Gettysburg. Wow, this is pretty embarrasing.\""
   ]
  },
  {
   "cell_type": "markdown",
   "metadata": {},
   "source": [
    "Try running and then printing these."
   ]
  },
  {
   "cell_type": "code",
   "execution_count": null,
   "metadata": {
    "collapsed": false
   },
   "outputs": [],
   "source": []
  },
  {
   "cell_type": "markdown",
   "metadata": {},
   "source": [
    "Tabs and spaces. Don't mix them. This isn't such a huge deal in a Jupyter notebook — it'll be awesome and handle indentation for you or turn your tabs to spaces. If you're writing a script in a text editor outside of a setting like this and mix them, the interpreter will choke on it. Style dictates that you use four spaces instead of tabs. I generally set up my text editor to replace tabs on the fly or do it after I'm done with my script, because I much prefer hitting tab once instead of space four times.\n",
    "\n",
    "The below looks fine, right? You will get an `IndentationError`."
   ]
  },
  {
   "cell_type": "code",
   "execution_count": null,
   "metadata": {
    "collapsed": false
   },
   "outputs": [],
   "source": [
    "print \"Start spreading the news,\"\n",
    "if my_string == 'New York':\n",
    "    print \"I'm leaving today,\"\n",
    "\tprint \"I want to be a part of it,\"\n",
    "    for num in range(0,2):\n",
    "        print my_string\n",
    "else:\n",
    "    print \"you clearly don't know how this song goes. {}?\".format(my_string)"
   ]
  }
 ],
 "metadata": {
  "kernelspec": {
   "display_name": "Python 2",
   "language": "python",
   "name": "python2"
  },
  "language_info": {
   "codemirror_mode": {
    "name": "ipython",
    "version": 2
   },
   "file_extension": ".py",
   "mimetype": "text/x-python",
   "name": "python",
   "nbconvert_exporter": "python",
   "pygments_lexer": "ipython2",
   "version": "2.7.11"
  }
 },
 "nbformat": 4,
 "nbformat_minor": 0
}
